{
 "cells": [
  {
   "cell_type": "markdown",
   "id": "ee63b1dd",
   "metadata": {},
   "source": [
    "Matthew Hall Module 7 Final Project\n",
    "1. Introduction\n",
    "In this project I selected 5 indepenedent variables to be used in creating a confident home price prediction model using linear regression and a small data set (provided). As you follow along you can see how we set a training set, fit the set, determine X and Y variables, shape, examine and finally plot our progress. \n",
    "\n",
    "2. Importing data as below. \n",
    "Using matplotlib, numpy, pandas, sklearn. We used a sample house price data set and are recognizing 20 instances from that set to use as training data. Resetting train attributes is as simple as rerunning train varibale with alterations.\n",
    "\n",
    "As far as any data transformations, we kept the data congruent as to what we imported. This could of course have different effects on the end result if we were coming across dupliate records, or a large amount of nulls. \n",
    "\n",
    "Linear equation formula we used is Y = X1 β 1 + X2 β 2 + X3 β 3 +X4 β 4 + X5 β 5"
   ]
  },
  {
   "cell_type": "code",
   "execution_count": 43,
   "id": "70a9f6be",
   "metadata": {},
   "outputs": [
    {
     "data": {
      "text/plain": [
       "(20, 82)"
      ]
     },
     "execution_count": 43,
     "metadata": {},
     "output_type": "execute_result"
    }
   ],
   "source": [
    "import pandas as pd\n",
    "import numpy as np\n",
    "#insert link on line below for data sample\n",
    "data = pd.read_csv('/Users/Mateus/Desktop/houseSmallData.csv')\n",
    "data.shape\n",
    "# this is picking row 0-20 to limit training data, hence the var train\n",
    "train = data.iloc[0:20:,:]\n",
    "train.shape\n",
    "#train.head()"
   ]
  },
  {
   "cell_type": "code",
   "execution_count": 44,
   "id": "41ad6441",
   "metadata": {},
   "outputs": [
    {
     "data": {
      "text/plain": [
       "(array([1., 6., 5., 1., 2., 1., 1., 1., 1., 1.]),\n",
       " array([ 90000., 115500., 141000., 166500., 192000., 217500., 243000.,\n",
       "        268500., 294000., 319500., 345000.]),\n",
       " <BarContainer object of 10 artists>)"
      ]
     },
     "execution_count": 44,
     "metadata": {},
     "output_type": "execute_result"
    },
    {
     "data": {
      "image/png": "[encoded data removed]",
      "text/plain": [
       "<Figure size 640x480 with 1 Axes>"
      ]
     },
     "metadata": {},
     "output_type": "display_data"
    }
   ],
   "source": [
    "import matplotlib.pyplot as plt\n",
    "train['SalePrice']\n",
    "plt.hist(train['SalePrice'])\n",
    "#data below shows the histogram of how the sample lays out in relation to price"
   ]
  },
  {
   "cell_type": "code",
   "execution_count": 45,
   "id": "2cb7f12b",
   "metadata": {},
   "outputs": [
    {
     "data": {
      "text/plain": [
       "(20, 40)"
      ]
     },
     "execution_count": 45,
     "metadata": {},
     "output_type": "execute_result"
    }
   ],
   "source": [
    "numeric = train.select_dtypes(include=[np.number])\n",
    "numeric.shape\n",
    "#reafirming our number of samples is key along the way to ensure accuracy"
   ]
  },
  {
   "cell_type": "code",
   "execution_count": 46,
   "id": "e2eb0e51",
   "metadata": {},
   "outputs": [
    {
     "data": {
      "text/plain": [
       "Index(['SalePrice', 'OverallQual', 'MasVnrArea', 'FullBath', 'TotRmsAbvGrd',\n",
       "       'YearBuilt'],\n",
       "      dtype='object')"
      ]
     },
     "execution_count": 46,
     "metadata": {},
     "output_type": "execute_result"
    }
   ],
   "source": [
    "# Here we determine our numerical values for creating coorelations along the way. No futher data shaping was needed at this point. \n",
    "# Relatively clean data\n",
    "corr = numeric.corr()\n",
    "##corr.shape\n",
    "#cols = corr['SalePrice'].sort_values(ascending=False)[0:6]\n",
    "cols = corr['SalePrice'].sort_values(ascending=False)[0:6].index\n",
    "cols"
   ]
  },
  {
   "cell_type": "markdown",
   "id": "4297c644",
   "metadata": {},
   "source": [
    "Here we can sum the nulls for choosing (reafirming) what attributes we can use"
   ]
  },
  {
   "cell_type": "code",
   "execution_count": 47,
   "id": "5ab4a44a",
   "metadata": {},
   "outputs": [
    {
     "data": {
      "text/html": [
       "<div>\n",
       "<style scoped>\n",
       "    .dataframe tbody tr th:only-of-type {\n",
       "        vertical-align: middle;\n",
       "    }\n",
       "\n",
       "    .dataframe tbody tr th {\n",
       "        vertical-align: top;\n",
       "    }\n",
       "\n",
       "    .dataframe thead th {\n",
       "        text-align: right;\n",
       "    }\n",
       "</style>\n",
       "<table border=\"1\" class=\"dataframe\">\n",
       "  <thead>\n",
       "    <tr style=\"text-align: right;\">\n",
       "      <th></th>\n",
       "      <th>OverallQual</th>\n",
       "      <th>MasVnrArea</th>\n",
       "      <th>FullBath</th>\n",
       "      <th>TotRmsAbvGrd</th>\n",
       "      <th>YearBuilt</th>\n",
       "    </tr>\n",
       "  </thead>\n",
       "  <tbody>\n",
       "    <tr>\n",
       "      <th>0</th>\n",
       "      <td>7</td>\n",
       "      <td>196.0</td>\n",
       "      <td>2</td>\n",
       "      <td>8</td>\n",
       "      <td>2003</td>\n",
       "    </tr>\n",
       "    <tr>\n",
       "      <th>1</th>\n",
       "      <td>6</td>\n",
       "      <td>0.0</td>\n",
       "      <td>2</td>\n",
       "      <td>6</td>\n",
       "      <td>1976</td>\n",
       "    </tr>\n",
       "    <tr>\n",
       "      <th>2</th>\n",
       "      <td>7</td>\n",
       "      <td>162.0</td>\n",
       "      <td>2</td>\n",
       "      <td>6</td>\n",
       "      <td>2001</td>\n",
       "    </tr>\n",
       "    <tr>\n",
       "      <th>3</th>\n",
       "      <td>7</td>\n",
       "      <td>0.0</td>\n",
       "      <td>1</td>\n",
       "      <td>7</td>\n",
       "      <td>1915</td>\n",
       "    </tr>\n",
       "    <tr>\n",
       "      <th>4</th>\n",
       "      <td>8</td>\n",
       "      <td>350.0</td>\n",
       "      <td>2</td>\n",
       "      <td>9</td>\n",
       "      <td>2000</td>\n",
       "    </tr>\n",
       "    <tr>\n",
       "      <th>5</th>\n",
       "      <td>5</td>\n",
       "      <td>0.0</td>\n",
       "      <td>1</td>\n",
       "      <td>5</td>\n",
       "      <td>1993</td>\n",
       "    </tr>\n",
       "    <tr>\n",
       "      <th>6</th>\n",
       "      <td>8</td>\n",
       "      <td>186.0</td>\n",
       "      <td>2</td>\n",
       "      <td>7</td>\n",
       "      <td>2004</td>\n",
       "    </tr>\n",
       "    <tr>\n",
       "      <th>7</th>\n",
       "      <td>7</td>\n",
       "      <td>240.0</td>\n",
       "      <td>2</td>\n",
       "      <td>7</td>\n",
       "      <td>1973</td>\n",
       "    </tr>\n",
       "    <tr>\n",
       "      <th>8</th>\n",
       "      <td>7</td>\n",
       "      <td>0.0</td>\n",
       "      <td>2</td>\n",
       "      <td>8</td>\n",
       "      <td>1931</td>\n",
       "    </tr>\n",
       "    <tr>\n",
       "      <th>9</th>\n",
       "      <td>5</td>\n",
       "      <td>0.0</td>\n",
       "      <td>1</td>\n",
       "      <td>5</td>\n",
       "      <td>1939</td>\n",
       "    </tr>\n",
       "    <tr>\n",
       "      <th>10</th>\n",
       "      <td>5</td>\n",
       "      <td>0.0</td>\n",
       "      <td>1</td>\n",
       "      <td>5</td>\n",
       "      <td>1965</td>\n",
       "    </tr>\n",
       "    <tr>\n",
       "      <th>11</th>\n",
       "      <td>9</td>\n",
       "      <td>286.0</td>\n",
       "      <td>3</td>\n",
       "      <td>11</td>\n",
       "      <td>2005</td>\n",
       "    </tr>\n",
       "    <tr>\n",
       "      <th>12</th>\n",
       "      <td>5</td>\n",
       "      <td>0.0</td>\n",
       "      <td>1</td>\n",
       "      <td>4</td>\n",
       "      <td>1962</td>\n",
       "    </tr>\n",
       "    <tr>\n",
       "      <th>13</th>\n",
       "      <td>7</td>\n",
       "      <td>306.0</td>\n",
       "      <td>2</td>\n",
       "      <td>7</td>\n",
       "      <td>2006</td>\n",
       "    </tr>\n",
       "    <tr>\n",
       "      <th>14</th>\n",
       "      <td>6</td>\n",
       "      <td>212.0</td>\n",
       "      <td>1</td>\n",
       "      <td>5</td>\n",
       "      <td>1960</td>\n",
       "    </tr>\n",
       "    <tr>\n",
       "      <th>15</th>\n",
       "      <td>7</td>\n",
       "      <td>0.0</td>\n",
       "      <td>1</td>\n",
       "      <td>5</td>\n",
       "      <td>1929</td>\n",
       "    </tr>\n",
       "    <tr>\n",
       "      <th>16</th>\n",
       "      <td>6</td>\n",
       "      <td>180.0</td>\n",
       "      <td>1</td>\n",
       "      <td>5</td>\n",
       "      <td>1970</td>\n",
       "    </tr>\n",
       "    <tr>\n",
       "      <th>17</th>\n",
       "      <td>4</td>\n",
       "      <td>0.0</td>\n",
       "      <td>2</td>\n",
       "      <td>6</td>\n",
       "      <td>1967</td>\n",
       "    </tr>\n",
       "    <tr>\n",
       "      <th>18</th>\n",
       "      <td>5</td>\n",
       "      <td>0.0</td>\n",
       "      <td>1</td>\n",
       "      <td>6</td>\n",
       "      <td>2004</td>\n",
       "    </tr>\n",
       "    <tr>\n",
       "      <th>19</th>\n",
       "      <td>5</td>\n",
       "      <td>0.0</td>\n",
       "      <td>1</td>\n",
       "      <td>6</td>\n",
       "      <td>1958</td>\n",
       "    </tr>\n",
       "  </tbody>\n",
       "</table>\n",
       "</div>"
      ],
      "text/plain": [
       "    OverallQual  MasVnrArea  FullBath  TotRmsAbvGrd  YearBuilt\n",
       "0             7       196.0         2             8       2003\n",
       "1             6         0.0         2             6       1976\n",
       "2             7       162.0         2             6       2001\n",
       "3             7         0.0         1             7       1915\n",
       "4             8       350.0         2             9       2000\n",
       "5             5         0.0         1             5       1993\n",
       "6             8       186.0         2             7       2004\n",
       "7             7       240.0         2             7       1973\n",
       "8             7         0.0         2             8       1931\n",
       "9             5         0.0         1             5       1939\n",
       "10            5         0.0         1             5       1965\n",
       "11            9       286.0         3            11       2005\n",
       "12            5         0.0         1             4       1962\n",
       "13            7       306.0         2             7       2006\n",
       "14            6       212.0         1             5       1960\n",
       "15            7         0.0         1             5       1929\n",
       "16            6       180.0         1             5       1970\n",
       "17            4         0.0         2             6       1967\n",
       "18            5         0.0         1             6       2004\n",
       "19            5         0.0         1             6       1958"
      ]
     },
     "execution_count": 47,
     "metadata": {},
     "output_type": "execute_result"
    }
   ],
   "source": [
    "# Pickin out x and y, Y= Sales Price\n",
    "X = train[cols]\n",
    "Y = train['SalePrice']\n",
    "X = X.drop(['SalePrice'], axis = 1)\n",
    "X"
   ]
  },
  {
   "cell_type": "code",
   "execution_count": 48,
   "id": "5d843350",
   "metadata": {},
   "outputs": [
    {
     "data": {
      "text/html": [
       "<div>\n",
       "<style scoped>\n",
       "    .dataframe tbody tr th:only-of-type {\n",
       "        vertical-align: middle;\n",
       "    }\n",
       "\n",
       "    .dataframe tbody tr th {\n",
       "        vertical-align: top;\n",
       "    }\n",
       "\n",
       "    .dataframe thead th {\n",
       "        text-align: right;\n",
       "    }\n",
       "</style>\n",
       "<table border=\"1\" class=\"dataframe\">\n",
       "  <thead>\n",
       "    <tr style=\"text-align: right;\">\n",
       "      <th></th>\n",
       "      <th>0</th>\n",
       "    </tr>\n",
       "  </thead>\n",
       "  <tbody>\n",
       "    <tr>\n",
       "      <th>Alley</th>\n",
       "      <td>20</td>\n",
       "    </tr>\n",
       "    <tr>\n",
       "      <th>PoolQC</th>\n",
       "      <td>20</td>\n",
       "    </tr>\n",
       "    <tr>\n",
       "      <th>MiscFeature</th>\n",
       "      <td>16</td>\n",
       "    </tr>\n",
       "    <tr>\n",
       "      <th>Fence</th>\n",
       "      <td>16</td>\n",
       "    </tr>\n",
       "    <tr>\n",
       "      <th>FireplaceQu</th>\n",
       "      <td>8</td>\n",
       "    </tr>\n",
       "    <tr>\n",
       "      <th>...</th>\n",
       "      <td>...</td>\n",
       "    </tr>\n",
       "    <tr>\n",
       "      <th>MasVnrType</th>\n",
       "      <td>0</td>\n",
       "    </tr>\n",
       "    <tr>\n",
       "      <th>Exterior2nd</th>\n",
       "      <td>0</td>\n",
       "    </tr>\n",
       "    <tr>\n",
       "      <th>Exterior1st</th>\n",
       "      <td>0</td>\n",
       "    </tr>\n",
       "    <tr>\n",
       "      <th>RoofMatl</th>\n",
       "      <td>0</td>\n",
       "    </tr>\n",
       "    <tr>\n",
       "      <th>SalePrice</th>\n",
       "      <td>0</td>\n",
       "    </tr>\n",
       "  </tbody>\n",
       "</table>\n",
       "<p>82 rows × 1 columns</p>\n",
       "</div>"
      ],
      "text/plain": [
       "              0\n",
       "Alley        20\n",
       "PoolQC       20\n",
       "MiscFeature  16\n",
       "Fence        16\n",
       "FireplaceQu   8\n",
       "...          ..\n",
       "MasVnrType    0\n",
       "Exterior2nd   0\n",
       "Exterior1st   0\n",
       "RoofMatl      0\n",
       "SalePrice     0\n",
       "\n",
       "[82 rows x 1 columns]"
      ]
     },
     "execution_count": 48,
     "metadata": {},
     "output_type": "execute_result"
    }
   ],
   "source": [
    "nulls = pd.DataFrame(train.isnull().sum().sort_values(ascending=False))\n",
    "nulls\n"
   ]
  },
  {
   "cell_type": "markdown",
   "id": "8e672713",
   "metadata": {},
   "source": [
    "Here is an example of using train data to show scatter correlation if we wanted to compare at this point"
   ]
  },
  {
   "cell_type": "code",
   "execution_count": null,
   "id": "19152a34",
   "metadata": {},
   "outputs": [],
   "source": [
    "#plt.scatter(train['FullBath'], y=target)"
   ]
  },
  {
   "cell_type": "code",
   "execution_count": 49,
   "id": "472227db",
   "metadata": {},
   "outputs": [],
   "source": [
    "#all setup to build Linder Regression Model from here\n",
    "from sklearn import linear_model\n",
    "lr = linear_model.LinearRegression()\n",
    "model = lr.fit(X,Y)\n",
    "predictions = model.predict(X)"
   ]
  },
  {
   "cell_type": "code",
   "execution_count": 50,
   "id": "9f940a66",
   "metadata": {},
   "outputs": [
    {
     "data": {
      "text/plain": [
       "0.9085082112884374"
      ]
     },
     "execution_count": 50,
     "metadata": {},
     "output_type": "execute_result"
    }
   ],
   "source": [
    "# How good is the model\n",
    "model.score (X,Y)"
   ]
  },
  {
   "cell_type": "code",
   "execution_count": 51,
   "id": "f0b21988",
   "metadata": {},
   "outputs": [
    {
     "data": {
      "text/plain": [
       "<matplotlib.collections.PathCollection at 0x7f899d2c7580>"
      ]
     },
     "execution_count": 51,
     "metadata": {},
     "output_type": "execute_result"
    },
    {
     "data": {
      "image/png": "[encoded data removed]",
      "text/plain": [
       "<Figure size 640x480 with 1 Axes>"
      ]
     },
     "metadata": {},
     "output_type": "display_data"
    }
   ],
   "source": [
    "#Scatter plot!\n",
    "plt.scatter(predictions, Y)"
   ]
  },
  {
   "cell_type": "markdown",
   "id": "1815129c",
   "metadata": {},
   "source": [
    "Now lets test against data we have not seen yet. "
   ]
  },
  {
   "cell_type": "code",
   "execution_count": null,
   "id": "7f1735e1",
   "metadata": {},
   "outputs": [],
   "source": [
    "test = pd.read_csv('/Users/Mateus/Desktop/houseSmallData.csv')"
   ]
  },
  {
   "cell_type": "code",
   "execution_count": null,
   "id": "862e2eaf",
   "metadata": {},
   "outputs": [],
   "source": [
    "test.shape"
   ]
  },
  {
   "cell_type": "code",
   "execution_count": null,
   "id": "db78d46a",
   "metadata": {},
   "outputs": [],
   "source": [
    "x = test[cols]\n",
    "y = x['SalesPrice']\n",
    "x = x.drop(['SalePrice'], axis = 1)\n",
    "x"
   ]
  },
  {
   "cell_type": "code",
   "execution_count": null,
   "id": "5a5daf18",
   "metadata": {},
   "outputs": [],
   "source": [
    "predictions = model.predict(x)\n",
    "print (f\"R^2 is: {model.score(x,y)}\")"
   ]
  },
  {
   "cell_type": "markdown",
   "id": "6a73fa83",
   "metadata": {},
   "source": [
    "Running test data from  jtest document is very close to train"
   ]
  },
  {
   "cell_type": "markdown",
   "id": "2bf611d2",
   "metadata": {},
   "source": [
    "In Conclusion, we are able to confirm the sample data set had a very strong correlation when determining the sales price based off of this 5 highest correlated attributes in our data set. Learning how to model a linear with scalable independent variables has proven to be a fantastic approach to creating a simple and effective prediction model. "
   ]
  },
  {
   "cell_type": "code",
   "execution_count": null,
   "id": "012a8795",
   "metadata": {},
   "outputs": [],
   "source": []
  },
  {
   "cell_type": "code",
   "execution_count": null,
   "id": "947fec35",
   "metadata": {},
   "outputs": [],
   "source": []
  },
  {
   "cell_type": "code",
   "execution_count": null,
   "id": "080ddae2",
   "metadata": {},
   "outputs": [],
   "source": []
  }
 ],
 "metadata": {
  "kernelspec": {
   "display_name": "Python 3 (ipykernel)",
   "language": "python",
   "name": "python3"
  },
  "language_info": {
   "codemirror_mode": {
    "name": "ipython",
    "version": 3
   },
   "file_extension": ".py",
   "mimetype": "text/x-python",
   "name": "python",
   "nbconvert_exporter": "python",
   "pygments_lexer": "ipython3",
   "version": "3.9.13"
  }
 },
 "nbformat": 4,
 "nbformat_minor": 5
}
